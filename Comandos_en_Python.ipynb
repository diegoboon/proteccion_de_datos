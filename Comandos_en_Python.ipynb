{
  "nbformat": 4,
  "nbformat_minor": 0,
  "metadata": {
    "colab": {
      "provenance": [],
      "toc_visible": true,
      "authorship_tag": "ABX9TyPGHtxpXVrB1EDqWU8ZvM8U",
      "include_colab_link": true
    },
    "kernelspec": {
      "name": "python3",
      "display_name": "Python 3"
    },
    "language_info": {
      "name": "python"
    }
  },
  "cells": [
    {
      "cell_type": "markdown",
      "metadata": {
        "id": "view-in-github",
        "colab_type": "text"
      },
      "source": [
        "<a href=\"https://colab.research.google.com/github/diegoboon/proteccion_de_datos/blob/main/Comandos_en_Python.ipynb\" target=\"_parent\"><img src=\"https://colab.research.google.com/assets/colab-badge.svg\" alt=\"Open In Colab\"/></a>"
      ]
    },
    {
      "cell_type": "markdown",
      "source": [
        "#**En los siguientes 18 temas vemos 20 ejemplos de programación en python obtenidos de los documentos:**\n",
        "#**Introducción a Python e Importación datos Python.**"
      ],
      "metadata": {
        "id": "6pVyiUXshCDy"
      }
    },
    {
      "cell_type": "markdown",
      "source": [
        "# 1 Uso de módulos y paqueterías"
      ],
      "metadata": {
        "id": "ebWS3vVW8k2B"
      }
    },
    {
      "cell_type": "markdown",
      "source": [
        "## Ejercicio 1\n",
        "*   En el siguiente ejemplo veremos como se manda a llamar\n",
        "una paquetería que contiene varios módulos. Para esto usaremos la paquetería math e importaremos su módulo factorial para sacar el factorial del número 7.\n",
        "\n",
        "\n",
        "\n"
      ],
      "metadata": {
        "id": "IXkXcIUk4LUw"
      }
    },
    {
      "cell_type": "code",
      "source": [
        "from math import factorial #Desde la paqueteríá math importamos su módulo factorial\n",
        "factorial(7) #Usamos el módulo con el argumento 7 para realizar la operación"
      ],
      "metadata": {
        "colab": {
          "base_uri": "https://localhost:8080/"
        },
        "id": "L00AxftB9M52",
        "outputId": "17ddd5cc-1835-48ab-b8d9-2173ab44e1fc"
      },
      "execution_count": null,
      "outputs": [
        {
          "output_type": "execute_result",
          "data": {
            "text/plain": [
              "5040"
            ]
          },
          "metadata": {},
          "execution_count": 22
        }
      ]
    },
    {
      "cell_type": "markdown",
      "source": [
        "#2 Nombres y espacios de nombres\n",
        "\n"
      ],
      "metadata": {
        "id": "7wewroT5-HcB"
      }
    },
    {
      "cell_type": "markdown",
      "source": [
        "## Ejercicio 2\n",
        "\n",
        "\n",
        "*   En el siguiente script se muestra cómo se pueden utilizar diferentes tipos de datos en Python, como números enteros (integer), cadenas de texto (string) y diccionarios para almacenar información. Luego, se imprime esta información en la pantalla para mostrar cómo se accede a los valores almacenados en estas variables y estructuras de datos."
      ],
      "metadata": {
        "id": "aHBb38Io30gL"
      }
    },
    {
      "cell_type": "code",
      "source": [
        "n = 3\n",
        "address = \"221b Baker Street, NW1 6XE, London\"\n",
        "employee = {\n",
        " 'age': 45,\n",
        " 'role': 'CTO',\n",
        " 'SSN': 'AB1234567',\n",
        " }\n",
        "\n",
        "print(n)\n",
        "print(address)\n",
        "print(employee[\"role\"])\n"
      ],
      "metadata": {
        "id": "0S8rfkuRS7cD",
        "colab": {
          "base_uri": "https://localhost:8080/"
        },
        "outputId": "9ebe25f4-d78a-4755-aea4-11aa6f0d917f"
      },
      "execution_count": 1,
      "outputs": [
        {
          "output_type": "stream",
          "name": "stdout",
          "text": [
            "3\n",
            "221b Baker Street, NW1 6XE, London\n",
            "CTO\n"
          ]
        }
      ]
    },
    {
      "cell_type": "markdown",
      "source": [
        "# 3 Alcane o scopes\n"
      ],
      "metadata": {
        "id": "Z0de21yWzpJT"
      }
    },
    {
      "cell_type": "markdown",
      "source": [
        "## Ejercicio 3\n",
        "\n",
        "\n",
        "*   El siguiente ejemplo hace referencia al alcance que tiene una variable, es decir, la diferencia entre las variables locales y globales en Python, donde la variable \"m\" dentro de la función \"local\" puede ser usada de manera local (dentro de la función solamente) y no afecta a la variable global \"m\". El resultado de la impresión mostrará primero el valor 7 (desde la función local) y luego el valor 5 (desde la variable global)."
      ],
      "metadata": {
        "id": "4DUaLkrB0gig"
      }
    },
    {
      "cell_type": "code",
      "execution_count": null,
      "metadata": {
        "id": "4cYNnQS1bFFI",
        "colab": {
          "base_uri": "https://localhost:8080/"
        },
        "outputId": "71d995bd-6f7f-44e2-8371-188086a69385"
      },
      "outputs": [
        {
          "output_type": "stream",
          "name": "stdout",
          "text": [
            "7\n",
            "5\n"
          ]
        }
      ],
      "source": [
        "def local():\n",
        "      m = 7 #Dentro de la función \"local\" se declara una variable \"m\" con un valor de 7.\n",
        "      print(m) #Se imprime su valor.\n",
        "\n",
        "m = 5 #Fuera de la función, se declara la variable global \"m\" con un valor de 5\n",
        "\n",
        "local() #Se llama a la función \"local\".\n",
        "print(m) #Se imprime el valor de la variable global \"m\"."
      ]
    },
    {
      "cell_type": "markdown",
      "source": [
        "## Ejercicio 4\n",
        "\n",
        "\n",
        "*   En el siguiente ejemplo imprimiremos la variable local, define una variable global m y una función local(). Dentro de la función local(), se intenta acceder a la variable m, y Python encuentra la variable global m, por lo que imprime su valor dos veces: una vez con el mensaje \"imprimiendo una variable global\" y otra vez con el mensaje \"imprimiendo una variable local\"."
      ],
      "metadata": {
        "id": "GaFUkJ-m0qWy"
      }
    },
    {
      "cell_type": "markdown",
      "source": [
        "\n",
        "\n",
        "---\n",
        "\n"
      ],
      "metadata": {
        "id": "noxIocWF2Jdr"
      }
    },
    {
      "cell_type": "code",
      "source": [
        "# Local versus Global\n",
        "def local():\n",
        "    # m no pertenece al ámbito definido por la función local\n",
        "\n",
        "    # por lo tanto, Python continuará buscando en el siguiente ámbito contenedor.\n",
        "    # Finalmente, m se encuentra en el ámbito global.\n",
        "    print(m, 'imprimiendo una variable local')\n",
        "\n",
        "m = 5\n",
        "print(m, 'imprimiendo una variable global')\n",
        "local()\n"
      ],
      "metadata": {
        "colab": {
          "base_uri": "https://localhost:8080/"
        },
        "id": "uuLP-6Z-2fUU",
        "outputId": "d216f4e4-7e21-4c70-c1f4-d1b391f4cae9"
      },
      "execution_count": null,
      "outputs": [
        {
          "output_type": "stream",
          "name": "stdout",
          "text": [
            "5 imprimiendo una variable golbal\n",
            "5 imprimiendo una variable local\n"
          ]
        }
      ]
    },
    {
      "cell_type": "markdown",
      "source": [
        "## Ejercicio 5\n",
        "\n",
        "\n",
        "*   En este script de Python, se muestran diferentes niveles de \"alcance\" de las variables, es decir, dónde pueden ser utilizadas. Hay tres niveles principales: **local, cercano y global.**"
      ],
      "metadata": {
        "id": "J-RaxUfW0MEU"
      }
    },
    {
      "cell_type": "code",
      "source": [
        "# Local, cercano y global\n",
        "def enclosing_func():\n",
        "  m = 13\n",
        "  def local():\n",
        "      # \"m\" no pertenece al ámbito definido por la función local\n",
        "      # por lo que Python seguirá buscando en el siguiente\n",
        "      # ámbito contenedor. En este caso, \"m\" se encuentra en el ámbito contenedor.\n",
        "\n",
        "      print(m, 'printing from the local scope')\n",
        "  # llamando a la función local\n",
        "  local()\n",
        "m = 5\n",
        "print(m, 'printing from the global scope')\n",
        "enclosing_func()"
      ],
      "metadata": {
        "colab": {
          "base_uri": "https://localhost:8080/"
        },
        "id": "uA2dqqmM4Ffn",
        "outputId": "504f57bd-9a64-4305-9039-649019459319"
      },
      "execution_count": null,
      "outputs": [
        {
          "output_type": "stream",
          "name": "stdout",
          "text": [
            "5 printing from the global scope\n",
            "13 printing from the local scope\n"
          ]
        }
      ]
    },
    {
      "cell_type": "markdown",
      "source": [
        "# 4 Objetos y clases\n"
      ],
      "metadata": {
        "id": "PezI5KLS5XTT"
      }
    },
    {
      "cell_type": "markdown",
      "source": [
        "##Ejercicio 6\n",
        "\n",
        "\n",
        "*   El siguiente ejemplo vamos a definir una clase \"Bike\" con dos atributos (color y material del cuadro) y un método \"brake\" que imprime un mensaje. Luego, se crean dos instancias de la clase \"Bike\" (una bicicleta roja y una bicicleta azul) y se inspeccionan sus atributos. Finalmente, se llama al método \"brake\" en la bicicleta roja, lo que imprime un mensaje indicando que la bicicleta está frenando."
      ],
      "metadata": {
        "id": "R4oYIpjs_dp-"
      }
    },
    {
      "cell_type": "code",
      "source": [
        "# Definición de la clase \"Bike\" (Bicicleta)\n",
        "class Bike:\n",
        "  def __init__(self, colour, frame_material):\n",
        "    self.colour = colour  # Inicializa el atributo \"color\" de la bicicleta con el valor proporcionado.\n",
        "    self.frame_material = frame_material  # Inicializa el atributo \"material del cuadro\" de la bicicleta con el valor proporcionado.\n",
        "\n",
        "  def brake(self):\n",
        "    print(\"¡Frenando!\")  # Imprime un mensaje que indica que la bicicleta está frenando.\n",
        "\n",
        "# Creamos un par de instancias de la clase \"Bike\".\n",
        "red_bike = Bike('Rojo', 'Fibra de carbono')\n",
        "blue_bike = Bike('Azul', 'Acero')\n",
        "\n",
        "# Inspeccionamos los objetos que tenemos, que son instancias de la clase \"Bike\".\n",
        "print(\"Color de la bicicleta: \"+red_bike.colour+\", \" \"Material de la bicicleta: \"+ red_bike.frame_material)\n",
        "\n",
        "print(blue_bike.colour, blue_bike.frame_material)  # Imprime: Azul\n",
        "\n",
        "\n",
        "# ¡Vamos a frenar!\n",
        "red_bike.brake()  # Imprime: ¡Frenando!\n"
      ],
      "metadata": {
        "colab": {
          "base_uri": "https://localhost:8080/"
        },
        "id": "LHiBcak940kk",
        "outputId": "0a6124f8-08f0-4f6b-b6b7-4c8ae087e0c6"
      },
      "execution_count": null,
      "outputs": [
        {
          "output_type": "stream",
          "name": "stdout",
          "text": [
            "Color de la bicicleta: Rojo, Material de la bicicleta: Fibra de carbono\n",
            "Azul Acero\n",
            "¡Frenando!\n"
          ]
        }
      ]
    },
    {
      "cell_type": "markdown",
      "source": [
        "# 5 Codificación y decodificación de cadenas.\n",
        "**Es el proceso de convertir caracteres de una cadena de texto en una secuencia de bytes (codificación) o viceversa (decodificación). **"
      ],
      "metadata": {
        "id": "LbSmPklB5dVS"
      }
    },
    {
      "cell_type": "markdown",
      "source": [
        "## Ejercicio 7\n",
        "\n",
        "UTF-8 es un esquema de codificación de caracteres Unicode muy utilizado en informática.\n",
        "*   En este ejemplo vemos cómo trabajar con cadenas Unicode y bytes en Python. El script convierte una cadena Unicode en una secuencia de bytes codificada en UTF-8 y luego la decodifica nuevamente a Unicode. También muestra cómo crear y trabajar con objetos de bytes directamente."
      ],
      "metadata": {
        "id": "QTqUvHBT6qnS"
      }
    },
    {
      "cell_type": "code",
      "source": [
        "s = \"This is üŋíc0de\" # cadena Unicode: puntos de código\n",
        "print(\"tipo de la variable 's': \",type(s))\n",
        "\n",
        "encoded_s = s.encode('utf-8') # versión codificada en UTF-8 de s\n",
        "print(\"versión codificada de la variable 's':\", encoded_s)\n",
        "\n",
        "print(\"Tipo de la versión codificada de la variable 's':\",type(encoded_s)) # otra forma de verificarlo\n",
        "print(encoded_s.decode('utf-8'))\n",
        "\n",
        "bytes_obj = b\"A bytes object\" # un objeto de bytes\n",
        "print(type(bytes_obj))\n"
      ],
      "metadata": {
        "id": "oO_7HfBi5krD"
      },
      "execution_count": null,
      "outputs": []
    },
    {
      "cell_type": "markdown",
      "source": [
        "#6 Tuplas\n",
        "**Una tupla en Python es una estructura de datos inmutable que se utiliza para almacenar una secuencia ordenada de elementos, y se define utilizando paréntesis o comas. Su inmutabilidad las hace útiles en situaciones donde no deseas que los datos cambien después de su creación.**"
      ],
      "metadata": {
        "id": "pT8vXW9a8VcD"
      }
    },
    {
      "cell_type": "markdown",
      "source": [
        "##Ejercicio 8\n",
        "\n",
        "\n",
        "*   El siguiente código muestra ejemplos de creación y manipulación de tuplas en Python, incluyendo la asignación múltiple de valores a variables y la comprobación de pertenencia a una tupla. También destaca la importancia de usar una coma para crear tuplas de un solo elemento.\n",
        "\n"
      ],
      "metadata": {
        "id": "17d-l3Xa8bJa"
      }
    },
    {
      "cell_type": "code",
      "source": [
        "t = ()  # tupla vacía\n",
        "type(t)\n",
        "one_element_tuple = (42,)  # ¡se necesita la coma!\n",
        "three_elements_tuple = (1, 3, 5)  # los paréntesis son opcionales aquí\n",
        "a, b, c = 1, 2, 3  # tupla para asignación múltiple\n",
        "a, b, c  # tupla implícita para imprimir en una sola instrucción\n",
        "3 in three_elements_tuple  # prueba de membresía\n"
      ],
      "metadata": {
        "colab": {
          "base_uri": "https://localhost:8080/"
        },
        "id": "4HgLV6eT8wvK",
        "outputId": "b83ed332-43e4-4202-c92b-2e14a7b85bcf"
      },
      "execution_count": 17,
      "outputs": [
        {
          "output_type": "execute_result",
          "data": {
            "text/plain": [
              "True"
            ]
          },
          "metadata": {},
          "execution_count": 17
        }
      ]
    },
    {
      "cell_type": "markdown",
      "source": [
        "#7 Listas\n",
        "**Una \"lista\" es una estructura de datos que se utiliza para almacenar una colección de elementos ordenados. Las listas son uno de los tipos de datos más utilizados en Python ya que son flexibles y pueden contener elementos de diferentes tipos.**"
      ],
      "metadata": {
        "id": "l-8efuzo9hxO"
      }
    },
    {
      "cell_type": "markdown",
      "source": [
        "##Ejercicio 9\n",
        "\n",
        "\n",
        "*   El siguiente código muestra cómo crear y trabajar con listas en Python. Las listas son colecciones de elementos que pueden contener datos de diferentes tipos y se definen utilizando corchetes [ ]. También se demuestra cómo convertir tuplas y cadenas de texto en listas, así como la utilización de comprensiones de lista para generar nuevas listas a partir de otras."
      ],
      "metadata": {
        "id": "_h94GjJH95GE"
      }
    },
    {
      "cell_type": "code",
      "source": [
        "[]  # lista vacía\n",
        "list()  # lo mismo que []\n",
        "[1, 2, 3]  # al igual que con las tuplas, los elementos están separados por comas\n",
        "[x + 5 for x in [2, 3, 4]]  # Python es mágico\n",
        "list((1, 3, 5, 7, 9))  # lista a partir de una tupla\n",
        "list('hello')  # lista a partir de una cadena de texto\n"
      ],
      "metadata": {
        "id": "OF3F7DQ89s9M"
      },
      "execution_count": null,
      "outputs": []
    },
    {
      "cell_type": "markdown",
      "source": [
        "#8 Tipos de mapeo: diccionarios\n",
        "**Un diccionario es una colección de datos que utiliza una estructura de mapeo para almacenar elementos en pares clave-valor. Cada elemento en un diccionario consiste en una clave única y un valor asociado.**"
      ],
      "metadata": {
        "id": "tJX6ZVBm-ikA"
      }
    },
    {
      "cell_type": "markdown",
      "source": [
        "##Ejercicio 10\n",
        "\n",
        "*   El siguiente ejemplo muestra diferentes formas de crear diccionarios y muestra que todos los diccionarios resultantes son iguales, independientemente de la sintaxis utilizada para crearlos.\n"
      ],
      "metadata": {
        "id": "6qSC4Ou2-ywF"
      }
    },
    {
      "cell_type": "code",
      "source": [
        "\n",
        "a = dict(A=1, Z=-1)  # Crear un diccionario usando la sintaxis especial clave=valor\n",
        "b = {'A': 1, 'Z': -1}  # Crear un diccionario utilizando notación de llaves\n",
        "c = dict(zip(['A', 'Z'], [1, -1]))  # Crear un diccionario a partir de listas y zip\n",
        "d = dict([('A', 1), ('Z', -1)])  # Crear un diccionario a partir de una lista de tuplas\n",
        "e = dict({'Z': -1, 'A': 1})  # Crear un diccionario directamente desde otro diccionario\n",
        "\n",
        "\n",
        "result = a == b == c == d == e  # Compara todos los diccionarios\n",
        "print(result)  # Imprime el resultado (True si son iguales, False si no lo son)\n",
        "\n"
      ],
      "metadata": {
        "colab": {
          "base_uri": "https://localhost:8080/"
        },
        "id": "Jkq3jvtk-uz5",
        "outputId": "21094cd6-bfa4-4def-b5c4-921a14438e0b"
      },
      "execution_count": 21,
      "outputs": [
        {
          "output_type": "stream",
          "name": "stdout",
          "text": [
            "True\n"
          ]
        }
      ]
    },
    {
      "cell_type": "markdown",
      "source": [
        "#9 ChainMap\n",
        "**ChainMap es una herramienta para combinar y acceder a varios diccionarios como si fueran uno solo, facilita la gestión de configuraciones y opciones predeterminadas en Python.**\n"
      ],
      "metadata": {
        "id": "FBWTjBp7ANMM"
      }
    },
    {
      "cell_type": "markdown",
      "source": [
        "##Ejercicio 11\n",
        "\n",
        "*   Este código utiliza la clase ChainMap del módulo collections para crear un mapa de combinación que permite acceder a varios diccionarios como si fueran uno solo.\n",
        "\n"
      ],
      "metadata": {
        "id": "q0ZbhmIBAO0M"
      }
    },
    {
      "cell_type": "code",
      "source": [
        "# Importamos la clase ChainMap desde el módulo collections\n",
        "from collections import ChainMap\n",
        "\n",
        "# Definimos un diccionario de conexión por defecto\n",
        "default_connection = {'host': 'localhost', 'port': 4567}\n",
        "\n",
        "# Definimos un diccionario de conexión adicional\n",
        "connection = {'port': 5678}\n",
        "\n",
        "# Creamos un ChainMap que combina ambos diccionarios\n",
        "conn = ChainMap(connection, default_connection)  # Creación del mapa\n",
        "\n",
        "# Accedemos al valor de 'port', que se encuentra en el primer diccionario\n",
        "print(conn['port'])  # Imprime 5678\n",
        "\n",
        "# Accedemos al valor de 'host', que se obtiene del segundo diccionario\n",
        "print(conn['host'])  # Imprime 'localhost'\n",
        "\n",
        "# Mostramos los objetos de mapeo (diccionarios) en el ChainMap\n",
        "print(conn.maps)  # Imprime [{'port': 5678}, {'host': 'localhost', 'port': 4567}]\n",
        "\n",
        "# Agregamos un nuevo valor 'host' al ChainMap\n",
        "conn['host'] = 'packtpub.com'\n",
        "print(conn.maps)  # Imprime [{'port': 5678, 'host': 'packtpub.com'}, {'host': 'localhost', 'port': 4567}]\n",
        "\n",
        "# Eliminamos la información de 'port' del ChainMap\n",
        "del conn['port']\n",
        "print(conn.maps)  # Imprime [{'host': 'packtpub.com'}, {'host': 'localhost', 'port': 4567}]\n",
        "\n",
        "# Accedemos al valor de 'port' nuevamente, que ahora se encuentra en el segundo diccionario\n",
        "print(conn['port'])  # Imprime 4567\n",
        "\n",
        "# Convertimos el ChainMap en un diccionario regular\n",
        "print(dict(conn))  # Imprime {'host': 'packtpub.com', 'port': 4567}\n"
      ],
      "metadata": {
        "colab": {
          "base_uri": "https://localhost:8080/"
        },
        "id": "JxhGRLOWAU-r",
        "outputId": "e227cf95-2604-4970-e991-8b12fa7885ec"
      },
      "execution_count": 23,
      "outputs": [
        {
          "output_type": "stream",
          "name": "stdout",
          "text": [
            "5678\n",
            "localhost\n",
            "[{'port': 5678}, {'host': 'localhost', 'port': 4567}]\n",
            "[{'port': 5678, 'host': 'packtpub.com'}, {'host': 'localhost', 'port': 4567}]\n",
            "[{'host': 'packtpub.com'}, {'host': 'localhost', 'port': 4567}]\n",
            "4567\n",
            "{'host': 'packtpub.com', 'port': 4567}\n"
          ]
        }
      ]
    },
    {
      "cell_type": "markdown",
      "source": [
        "#10 Funciones anónimas\n",
        "**Se conocen como \"funciones lambda\". Son funciones pequeñas y anónimas que se pueden definir en una sola línea de código sin necesidad de un nombre. Las funciones lambda son útiles cuando necesitas una función temporal para realizar una tarea específica, como un cálculo o una transformación de datos.**"
      ],
      "metadata": {
        "id": "xGiHKI_pBCv_"
      }
    },
    {
      "cell_type": "markdown",
      "source": [
        "##Ejercicio 12\n",
        "\n",
        "*   En este ejemplo vemos cómo filtrar números múltiplos de cinco utilizando dos enfoques diferentes. Ambos enfoques logran el mismo resultado, que es obtener una lista de números múltiplos de cinco hasta un valor n dado. Los enfoques difieren en cómo se define la función de filtro: en el primero se utiliza una función definida previamente (**is_multiple_of_five**), mientras que en el segundo se utiliza una función lambda directamente. Ambos enfoques son válidos y funcionan de manera similar.\n",
        "\n"
      ],
      "metadata": {
        "id": "q2lZOIlaBSXE"
      }
    },
    {
      "cell_type": "code",
      "source": [
        "# Filtrado regular utilizando una función definida previamente\n",
        "def is_multiple_of_five(n):\n",
        "    return not n % 5\n",
        "\n",
        "# Función que devuelve una lista de números múltiplos de cinco hasta n\n",
        "def get_multiples_of_five(n):\n",
        "    return list(filter(is_multiple_of_five, range(n)))\n",
        "\n",
        "# Llamada a la función para obtener múltiplos de cinco\n",
        "get_multiples_of_five(100)\n",
        "\n"
      ],
      "metadata": {
        "colab": {
          "base_uri": "https://localhost:8080/"
        },
        "id": "t3PvtFErCbOl",
        "outputId": "7b0b8bd4-40f1-42ba-facb-ad0c8021d936"
      },
      "execution_count": 45,
      "outputs": [
        {
          "output_type": "execute_result",
          "data": {
            "text/plain": [
              "[0, 5, 10, 15, 20, 25, 30, 35, 40, 45, 50, 55, 60, 65, 70, 75, 80, 85, 90, 95]"
            ]
          },
          "metadata": {},
          "execution_count": 45
        }
      ]
    },
    {
      "cell_type": "code",
      "source": [
        "\n",
        "# Filtrado utilizando una función lambda\n",
        "def get_multiples_of_five(n):\n",
        "    return list(filter(lambda k: not k % 5, range(n)))\n",
        "\n",
        "# Llamada a la función lambda para obtener múltiplos de cinco\n",
        "get_multiples_of_five(100)\n"
      ],
      "metadata": {
        "colab": {
          "base_uri": "https://localhost:8080/"
        },
        "id": "f7mwP1-9DECX",
        "outputId": "eb72aacb-2c3c-4ea3-e6b2-d471126be6dd"
      },
      "execution_count": 46,
      "outputs": [
        {
          "output_type": "execute_result",
          "data": {
            "text/plain": [
              "[0, 5, 10, 15, 20, 25, 30, 35, 40, 45, 50, 55, 60, 65, 70, 75, 80, 85, 90, 95]"
            ]
          },
          "metadata": {},
          "execution_count": 46
        }
      ]
    },
    {
      "cell_type": "markdown",
      "source": [
        "#11 Abriendo archivos"
      ],
      "metadata": {
        "id": "p7eW54cKQO72"
      }
    },
    {
      "cell_type": "markdown",
      "source": [
        "##Ejercicio 13\n",
        "\n",
        "*   Este código se encarga de abrir y leer un archivo de texto llamado 'fear.txt', línea por línea, eliminando los espacios en blanco alrededor de cada línea y luego imprimiendo el contenido de cada línea en la consola. Finalmente, cierra el archivo. En resumen, este código lee y muestra el contenido de un archivo de texto.\n",
        "\n"
      ],
      "metadata": {
        "id": "ShMSasuqRJrV"
      }
    },
    {
      "cell_type": "code",
      "source": [
        "fh = open('fear.txt', 'rt') # r: read o leer, t: text o texto\n",
        "for line in fh.readlines():\n",
        "  print(line.strip()) # remover espacios en blanco e imprimir\n",
        "fh.close() #cerrar archivo"
      ],
      "metadata": {
        "id": "OTWfG4v3QS4U"
      },
      "execution_count": null,
      "outputs": []
    },
    {
      "cell_type": "markdown",
      "source": [
        "#12 Manipulando archivos y directorios"
      ],
      "metadata": {
        "id": "WSZbyHNlRaK0"
      }
    },
    {
      "cell_type": "markdown",
      "source": [
        "##Ejercicio 14\n",
        "\n",
        "*   El este código se lee un archivo de texto llamado 'fear.txt', invierte su contenido y lo guarda en 'raef.txt'. Luego, realiza un conteo de palabras en el archivo original y muestra las 3 palabras más comunes en minúsculas.\n"
      ],
      "metadata": {
        "id": "GNxwjcRxRdMP"
      }
    },
    {
      "cell_type": "code",
      "source": [
        "from collections import Counter  # Importar la clase Counter del módulo collections\n",
        "from string import ascii_letters  # Importar las letras ASCII en minúsculas y mayúsculas\n",
        "chars = ascii_letters + ' '  # Crear una cadena que contiene letras ASCII y espacio\n",
        "\n",
        "# Función para limpiar una cadena \"s\" eliminando caracteres que no estén en \"chars\"\n",
        "def sanitize(s, chars):\n",
        "    return ''.join(c for c in s if c in chars)\n",
        "\n",
        "# Función para invertir una cadena \"s\"\n",
        "def reverse(s):\n",
        "    return s[::-1]\n",
        "\n",
        "# Abrir el archivo 'fear.txt' y leer sus líneas en una lista llamada \"lines\"\n",
        "with open('fear.txt') as stream:\n",
        "    lines = [line.rstrip() for line in stream]\n",
        "\n",
        "# Escribir la versión invertida (espejo) del archivo en 'raef.txt'\n",
        "with open('raef.txt', 'w') as stream:\n",
        "    stream.write('\\n'.join(reverse(line) for line in lines))\n",
        "\n",
        "# Realizar operaciones estadísticas en el contenido del archivo\n",
        "lines = [sanitize(line, chars) for line in lines]  # Limpiar las líneas eliminando caracteres no deseados\n",
        "whole = ' '.join(lines)  # Unir todas las líneas en una única cadena\n",
        "\n",
        "# Realizar un conteo de las palabras en \"whole\" y almacenar los resultados en \"cnt\"\n",
        "# Se realizan comparaciones en minúsculas para evitar diferencias de mayúsculas y minúsculas\n",
        "cnt = Counter(whole.lower().split())\n",
        "\n",
        "# Imprimir las N palabras más comunes (en este caso, las 3 más comunes)\n",
        "print(cnt.most_common(3))\n"
      ],
      "metadata": {
        "id": "9CAVQpr0RiM3"
      },
      "execution_count": null,
      "outputs": []
    },
    {
      "cell_type": "markdown",
      "source": [
        "#13 Archivos y directorios temporales\n",
        "Alamcenan información de manera temporal durante la ejecución de un programa sin necesidad de crear archivos o directorios permanentes en el sistema de archivos del sistema operativo."
      ],
      "metadata": {
        "id": "rZEtE1AaR_Y_"
      }
    },
    {
      "cell_type": "markdown",
      "source": [
        "##Ejercicio 15\n",
        "\n",
        "*   En este ejemplo se crea un directorio temporal y un archivo temporal dentro de ese directorio, luego muestra la ruta del directorio y el nombre del archivo temporal. Ambos recursos temporales se eliminan automáticamente al finalizar su uso.\n"
      ],
      "metadata": {
        "id": "BVkkBX0OSg6Q"
      }
    },
    {
      "cell_type": "code",
      "source": [
        "# Importar las clases NamedTemporaryFile y TemporaryDirectory de la biblioteca tempfile\n",
        "from tempfile import NamedTemporaryFile, TemporaryDirectory\n",
        "\n",
        "# Crear un directorio temporal en el directorio actual ('.') y almacenar su referencia en 'td'\n",
        "with TemporaryDirectory(dir='.') as td:\n",
        "    # Imprimir la ruta del directorio temporal\n",
        "    print('Directorio temporal:', td)\n",
        "\n",
        "    # Crear un archivo temporal dentro del directorio temporal 'td' y almacenar su referencia en 't'\n",
        "    with NamedTemporaryFile(dir=td) as t:\n",
        "        # Obtener el nombre del archivo temporal\n",
        "        name = t.name\n",
        "\n",
        "        # Imprimir el nombre del archivo temporal\n",
        "        print(name)\n",
        "# El directorio y el archivo temporales se eliminarán automáticamente al salir de los bloques 'with'\n"
      ],
      "metadata": {
        "colab": {
          "base_uri": "https://localhost:8080/"
        },
        "id": "RGjdgW4PSnSf",
        "outputId": "c068a199-3087-4355-9878-5b25c356f623"
      },
      "execution_count": 53,
      "outputs": [
        {
          "output_type": "stream",
          "name": "stdout",
          "text": [
            "Directorio temporal: ./tmplufpw0l1\n",
            "/content/tmplufpw0l1/tmpbgfzy8a1\n"
          ]
        }
      ]
    },
    {
      "cell_type": "markdown",
      "source": [
        "#14 Trabajando con JSON\n",
        "Un archivo JSON (JavaScript Object Notation) es un formato de intercambio de datos ligero y legible por humanos que se utiliza para representar datos estructurados. Es muy utilizado en la programación y la transferencia de datos entre sistemas debido a su simplicidad, facilidad de lectura y escritura tanto por humanos como por máquinas."
      ],
      "metadata": {
        "id": "XEjcGXK5Thj0"
      }
    },
    {
      "cell_type": "markdown",
      "source": [
        "##Ejercicio 16\n",
        "\n",
        "*   En este código demuestra cómo serializar datos en formato JSON a partir de un diccionario Python y luego cómo deserializar esos datos JSON para obtener una estructura de datos Python equivalente. Al final verifica que los datos originales y los datos obtenidos después de la decodificación sean idénticos.\n",
        "\n"
      ],
      "metadata": {
        "id": "J5XgAXVoUGIx"
      }
    },
    {
      "cell_type": "code",
      "source": [
        "import sys\n",
        "import json\n",
        "\n",
        "# Definir un diccionario llamado 'data' con varios tipos de datos\n",
        "data = {\n",
        "    'big_number': 2 ** 3141,            # Un número grande\n",
        "    'max_float': sys.float_info.max,    # El máximo valor de punto flotante según la información del sistema\n",
        "    'a_list': [2, 3, 5, 7],             # Una lista de números primos\n",
        "}\n",
        "\n",
        "# Convertir el diccionario 'data' en una cadena JSON llamada 'json_data'\n",
        "json_data = json.dumps(data)\n",
        "\n",
        "# Decodificar la cadena JSON 'json_data' en un nuevo diccionario llamado 'data_out'\n",
        "data_out = json.loads(json_data)\n",
        "\n",
        "# Verificar si el diccionario original 'data' y el diccionario después de la decodificación 'data_out' son iguales\n",
        "assert data == data_out\n",
        "\n",
        "# Imprimir el resultado\n",
        "print(\"Diccionario original:\")\n",
        "print(data)\n",
        "print(\"\\nDiccionario después de la decodificación:\")\n",
        "print(data_out)\n",
        "\n"
      ],
      "metadata": {
        "id": "rl0XVsCCTrKt"
      },
      "execution_count": null,
      "outputs": []
    },
    {
      "cell_type": "markdown",
      "source": [
        "#15 Realizando solicitudes HTTP"
      ],
      "metadata": {
        "id": "1h1Ub9okUtrD"
      }
    },
    {
      "cell_type": "markdown",
      "source": [
        "##Ejercicio 17\n",
        "\n",
        "*   El siguiente código realiza múltiples solicitudes HTTP a diferentes URLs y muestra el contenido JSON de las respuestas. Es una forma de obtener información de servicios web y visualizarla en la consola de Python.\n",
        "\n"
      ],
      "metadata": {
        "id": "yN5c1568U5aH"
      }
    },
    {
      "cell_type": "code",
      "source": [
        "import requests\n",
        "\n",
        "# Definimos diccionario de URLs con títulos descriptivos\n",
        "urls = {\n",
        "    \"get\": \"https://httpbin.org/get?t=learn+python+programming\",\n",
        "    \"headers\": \"https://httpbin.org/headers\",\n",
        "    \"ip\": \"https://httpbin.org/ip\",\n",
        "    \"user-agent\": \"https://httpbin.org/user-agent\",\n",
        "    \"UUID\": \"https://httpbin.org/uuid\",\n",
        "    \"JSON\": \"https://httpbin.org/json\",\n",
        "}\n",
        "\n",
        "# Definimos una función llamada 'get_content' para obtener y mostrar el contenido de una URL\n",
        "def get_content(title, url):\n",
        "    resp = requests.get(url)  # Realizar una solicitud GET a la URL\n",
        "    print(f\"Response for {title}\")  # Imprimir el título de la solicitud\n",
        "    print(resp.json())  # Imprimir el contenido JSON de la respuesta\n",
        "\n",
        "# Iteramos a través de las URLs en el diccionario y obtener y mostrar su contenido\n",
        "for title, url in urls.items():\n",
        "    get_content(title, url)  # Llamar a la función para obtener y mostrar el contenido\n",
        "    print(\"-\" * 40)  # Imprimir una línea de separación después de cada solicitud\n"
      ],
      "metadata": {
        "colab": {
          "base_uri": "https://localhost:8080/"
        },
        "id": "SXSd3rytU91Y",
        "outputId": "abab8c1f-91ec-4e48-8b47-7669f7dc03e8"
      },
      "execution_count": 58,
      "outputs": [
        {
          "output_type": "stream",
          "name": "stdout",
          "text": [
            "Response for get\n",
            "{'args': {'t': 'learn python programming'}, 'headers': {'Accept': '*/*', 'Accept-Encoding': 'gzip, deflate', 'Host': 'httpbin.org', 'User-Agent': 'python-requests/2.31.0', 'X-Amzn-Trace-Id': 'Root=1-6507410c-6fffc1517366718503dbe0ef'}, 'origin': '34.82.48.242', 'url': 'https://httpbin.org/get?t=learn+python+programming'}\n",
            "----------------------------------------\n",
            "Response for headers\n",
            "{'headers': {'Accept': '*/*', 'Accept-Encoding': 'gzip, deflate', 'Host': 'httpbin.org', 'User-Agent': 'python-requests/2.31.0', 'X-Amzn-Trace-Id': 'Root=1-6507410c-0f9511332f43e0731c66112f'}}\n",
            "----------------------------------------\n",
            "Response for ip\n",
            "{'origin': '34.82.48.242'}\n",
            "----------------------------------------\n",
            "Response for user-agent\n",
            "{'user-agent': 'python-requests/2.31.0'}\n",
            "----------------------------------------\n",
            "Response for UUID\n",
            "{'uuid': '233480c1-8c3c-4d4f-83e9-3614e58f5fa8'}\n",
            "----------------------------------------\n",
            "Response for JSON\n",
            "{'slideshow': {'author': 'Yours Truly', 'date': 'date of publication', 'slides': [{'title': 'Wake up to WonderWidgets!', 'type': 'all'}, {'items': ['Why <em>WonderWidgets</em> are great', 'Who <em>buys</em> WonderWidgets'], 'title': 'Overview', 'type': 'all'}], 'title': 'Sample Slide Show'}}\n",
            "----------------------------------------\n"
          ]
        }
      ]
    },
    {
      "cell_type": "markdown",
      "source": [
        "#16 Serializando datos con pickle\n",
        "**Serializar es el proceso de convertir objetos Python en una representación de bytes que puede ser almacenada en un archivo o transmitida a través de una red.**"
      ],
      "metadata": {
        "id": "wFWuU35iVy8x"
      }
    },
    {
      "cell_type": "markdown",
      "source": [
        "##Ejercicio 18\n",
        "\n",
        "*   En este ejemplo vemos cómo serializar objetos Python en un archivo usando pickle y luego cargar los objetos desde el archivo. Se utiliza una clase de datos Person para crear objetos de personas.\n",
        "\n",
        "\n"
      ],
      "metadata": {
        "id": "amTRPmdKXSPJ"
      }
    },
    {
      "cell_type": "code",
      "source": [
        "import pickle\n",
        "from dataclasses import dataclass\n",
        "\n",
        "# Definimos una clase de datos llamada 'Person' utilizando el decorador '@dataclass'\n",
        "@dataclass\n",
        "class Person:\n",
        "    first_name: str\n",
        "    last_name: str\n",
        "    id: int\n",
        "\n",
        "    # Definimos un método llamado 'greet' para saludar a la persona\n",
        "    def greet(self):\n",
        "        print(f'Hola, soy {self.first_name} {self.last_name}'f' y mi ID es {self.id}')\n",
        "\n",
        "# Creamos una lista de objetos 'Person' con información de personas\n",
        "people = [\n",
        "    Person('Obi-Wan', 'Kenobi', 123),\n",
        "    Person('Anakin', 'Skywalker', 456),\n",
        "]\n",
        "\n",
        "# Guardamos los datos en formato binario en un archivo usando 'pickle'\n",
        "with open('data.pickle', 'wb') as stream:\n",
        "    pickle.dump(people, stream)\n",
        "\n",
        "# Cargamos los datos desde un archivo\n",
        "with open('data.pickle', 'rb') as stream:\n",
        "    peeps = pickle.load(stream)\n",
        "\n",
        "# Iteramos a través de las personas cargadas y llamamos al método 'greet' para saludar\n",
        "for person in peeps:\n",
        "    person.greet()\n"
      ],
      "metadata": {
        "colab": {
          "base_uri": "https://localhost:8080/"
        },
        "id": "0-AIAa5HWDkO",
        "outputId": "a9eeeca0-1fea-40cd-fe02-43e38ca1970e"
      },
      "execution_count": 61,
      "outputs": [
        {
          "output_type": "stream",
          "name": "stdout",
          "text": [
            "Hola, soy Obi-Wan Kenobi y mi ID es 123\n",
            "Hola, soy Anakin Skywalker y mi ID es 456\n"
          ]
        }
      ]
    },
    {
      "cell_type": "markdown",
      "source": [
        "#17 Guardando datos con shelve"
      ],
      "metadata": {
        "id": "cit9Mo8jXtCd"
      }
    },
    {
      "cell_type": "markdown",
      "source": [
        "##Ejercicio 19\n",
        "\n",
        "*   En este código utilizamos la biblioteca shelve para crear y administrar una base de datos en forma de archivo llamada 'shelf1.shelve'. Almacenamos y administramos data en una base de datos en forma de archivo. Se pueden guardar y recuperar objetos junto con otros tipos de datos.\n",
        "\n",
        "\n"
      ],
      "metadata": {
        "id": "0txzW_HTYbtl"
      }
    },
    {
      "cell_type": "code",
      "source": [
        "import shelve\n",
        "\n",
        "# Definimos una clase llamada 'Person' para representar personas con nombre e ID\n",
        "class Person:\n",
        "    def __init__(self, name, id):\n",
        "        self.name = name\n",
        "        self.id = id\n",
        "\n",
        "# Abrimos una base de datos \"shelve\" llamada 'shelf1.shelve'\n",
        "with shelve.open('shelf1.shelve') as db:\n",
        "\n",
        "    # Guardamos objetos 'Person' en la base de datos con claves 'obi1' y 'ani'\n",
        "    db['obi1'] = Person('Obi-Wan', 123)\n",
        "    db['ani'] = Person('Anakin', 456)\n",
        "\n",
        "    # Guardamos una lista en la base de datos con clave 'a_list'\n",
        "    db['a_list'] = [2, 3, 5]\n",
        "\n",
        "    # Guardamos una cadena en la base de datos con clave 'delete_me'\n",
        "    db['delete_me'] = 'tendremos que eliminar esto...'\n",
        "\n",
        "    # Imprimimos las claves almacenadas en la base de datos\n",
        "    print(list(db.keys()))  # ['ani', 'delete_me', 'a_list', 'obi1']\n",
        "\n",
        "    # Eliminamos la clave 'delete_me' de la base de datos\n",
        "    del db['delete_me']\n",
        "\n",
        "    # Imprimimos las claves después de la eliminación\n",
        "    print(list(db.keys()))  # ['ani', 'a_list', 'obi1']\n",
        "\n",
        "    # Verificamos si la clave 'delete_me' está en la base de datos (debe ser Falso)\n",
        "    print('delete_me' in db)  # False\n",
        "\n",
        "    # Verificamos si la clave 'ani' está en la base de datos (debe ser Verdadero)\n",
        "    print('ani' in db)  # True\n",
        "\n",
        "    # Obtenemos la lista 'a_list' de la base de datos y le agregamos el número 7\n",
        "    a_list = db['a_list']\n",
        "    a_list.append(7)\n",
        "\n",
        "    # Actualizamos la lista 'a_list' en la base de datos\n",
        "    db['a_list'] = a_list\n",
        "\n",
        "    # Imprimimos la lista actualizada desde la base de datos\n",
        "    print(db['a_list'])  # [2, 3, 5, 7]\n"
      ],
      "metadata": {
        "colab": {
          "base_uri": "https://localhost:8080/"
        },
        "id": "HyEoib43X4jX",
        "outputId": "6ec5e7ed-e7a2-4f95-e242-795864c50eb6"
      },
      "execution_count": 63,
      "outputs": [
        {
          "output_type": "stream",
          "name": "stdout",
          "text": [
            "['a_list', 'ani', 'delete_me', 'obi1']\n",
            "['a_list', 'ani', 'obi1']\n",
            "False\n",
            "True\n",
            "[2, 3, 5, 7]\n"
          ]
        }
      ]
    },
    {
      "cell_type": "markdown",
      "source": [
        "#18 Guardando data en una base de datos"
      ],
      "metadata": {
        "id": "TIZLJp5cZrXN"
      }
    },
    {
      "cell_type": "markdown",
      "source": [
        "##Ejercicio 20\n",
        "\n",
        "*   El siguiente codigo se modificó un poco ya que estaba desactualizado en la parte de slalchemy, se utiliza el 2.0 lo que genera una advertencia.\n",
        "\n",
        "Se ha cambiado\n",
        "**`from sqlalchemy.ext.declarative import declarative_base`**\n",
        "por\n",
        "**`from sqlalchemy.orm import declarative_base`**\n",
        "\n",
        "\n",
        "\n"
      ],
      "metadata": {
        "id": "vAphANOxZ03S"
      }
    },
    {
      "cell_type": "markdown",
      "source": [
        "\n",
        "\n",
        "*   Este código establece la estructura de la base de datos, define las clases que representan las tablas y sus relaciones, y crea las tablas en una base de datos SQLite en memoria. Las clases 'Person' y 'Address' permiten almacenar información de personas y sus direcciones en la base de datos de manera organizada.\n",
        "\n"
      ],
      "metadata": {
        "id": "0KvU5VKXdbck"
      }
    },
    {
      "cell_type": "code",
      "source": [
        "# Importamos las clases necesarias de SQLAlchemy\n",
        "from sqlalchemy.orm import declarative_base\n",
        "from sqlalchemy import Column, Integer, String, ForeignKey, create_engine\n",
        "from sqlalchemy.orm import relationship\n",
        "\n",
        "# Creamos un motor de base de datos SQLite en memoria\n",
        "engine = create_engine('sqlite:///:memory:')\n",
        "\n",
        "# Creamos una instancia de base declarativa\n",
        "Base = declarative_base()\n",
        "\n",
        "# Definimos una clase llamada 'Person' que representa personas en una base de datos\n",
        "class Person(Base):\n",
        "    __tablename__ = 'person'  # Nombre de la tabla en la base de datos\n",
        "    id = Column(Integer, primary_key=True)  # Columna de ID, clave primaria\n",
        "    name = Column(String)  # Columna de nombre\n",
        "    age = Column(Integer)  # Columna de edad\n",
        "\n",
        "    # Definimos una relación con la clase 'Address', indicando que es una relación uno a muchos\n",
        "    addresses = relationship(\n",
        "        'Address',\n",
        "        back_populates='person',\n",
        "        order_by='Address.email',\n",
        "        cascade='all, delete-orphan'\n",
        "    )\n",
        "\n",
        "    # Definimos una representación legible de la clase\n",
        "    def __repr__(self):\n",
        "        return f'{self.name}(id={self.id})'\n",
        "\n",
        "# Definimos una clase llamada 'Address' que representa direcciones en la base de datos\n",
        "class Address(Base):\n",
        "    __tablename__ = 'address'\n",
        "    id = Column(Integer, primary_key=True)\n",
        "    email = Column(String)\n",
        "\n",
        "    # Establecemos una clave foránea (foreign key) que se relaciona con la columna 'id' de 'Person'\n",
        "    person_id = Column(ForeignKey('person.id'))\n",
        "\n",
        "    # Establecemos una relación inversa con la clase 'Person'\n",
        "    person = relationship('Person', back_populates='addresses')\n",
        "\n",
        "    # Definimos una representación legible de la clase\n",
        "    def __str__(self):\n",
        "        return self.email\n",
        "\n",
        "    __repr__ = __str__\n",
        "\n",
        "# Creamos las tablas en la base de datos utilizando la metainformación de Base\n",
        "Base.metadata.create_all(engine)\n"
      ],
      "metadata": {
        "id": "75byylPtaCdq"
      },
      "execution_count": 68,
      "outputs": []
    },
    {
      "cell_type": "markdown",
      "source": [
        "\n",
        "\n",
        "*   Esta parte del código se modificó ya que importaba el archivo anteriormente creado, pero como sabemos colab almacena temporalmente los archivos otorgados por nosotors, así que se eliminó **`from alchemy_models import Person, Address, engine`**\n",
        "y se toman esos parametros del código anterior.\n",
        "\n",
        "*   Aquí se crea una sesión de SQLAlchemy, agrega personas (Anakin Skywalker y Obi-Wan Kenobi) y sus direcciones asociadas a la base de datos, y luego realiza consultas para recuperar información específica de estas personas y sus direcciones. Los comentarios explican cada paso del proceso.\n",
        "\n",
        "\n",
        "\n",
        "\n",
        "\n",
        ""
      ],
      "metadata": {
        "id": "rO0v3pl0deRI"
      }
    },
    {
      "cell_type": "code",
      "source": [
        "# Importamos la clase 'sessionmaker' de SQLAlchemy\n",
        "from sqlalchemy.orm import sessionmaker\n",
        "\n",
        "# Creamos una sesión vinculada al motor de la base de datos 'engine'\n",
        "Session = sessionmaker(bind=engine)\n",
        "\n",
        "# Inicializamos una sesión\n",
        "session = Session()\n",
        "\n",
        "# Creamos dos objetos 'Person' representando a Anakin Skywalker y Obi-Wan Kenobi\n",
        "anakin = Person(name='Anakin Skywalker', age=32)\n",
        "obi1 = Person(name='Obi-Wan Kenobi', age=40)\n",
        "\n",
        "# Asignamos direcciones a Obi-Wan Kenobi utilizando la relación 'addresses'\n",
        "obi1.addresses = [\n",
        "    Address(email='obi1@example.com'),\n",
        "    Address(email='wanwan@example.com'),\n",
        "]\n",
        "\n",
        "# Añadimos direcciones a Anakin Skywalker utilizando 'append'\n",
        "anakin.addresses.append(Address(email='ani@example.com'))\n",
        "anakin.addresses.append(Address(email='evil.dart@example.com'))\n",
        "anakin.addresses.append(Address(email='vader@example.com'))\n",
        "\n",
        "# Agregamos los objetos 'anakin' y 'obi1' a la sesión y confirmamos los cambios en la base de datos\n",
        "session.add(anakin)\n",
        "session.add(obi1)\n",
        "session.commit()\n",
        "\n",
        "# Consultamos a Obi-Wan Kenobi utilizando un filtro por nombre\n",
        "obi1 = session.query(Person).filter(\n",
        "    Person.name.like('Obi%')\n",
        ").first()\n",
        "print(obi1, obi1.addresses)\n",
        "\n",
        "# Consultamos a Anakin Skywalker utilizando un filtro por nombre\n",
        "anakin = session.query(Person).filter(\n",
        "    Person.name == 'Anakin Skywalker'\n",
        ").first()\n",
        "print(anakin, anakin.addresses)\n"
      ],
      "metadata": {
        "colab": {
          "base_uri": "https://localhost:8080/"
        },
        "id": "1mYz9bQtcJJK",
        "outputId": "7f1d2118-1310-4ed3-ae6b-350c99ee729e"
      },
      "execution_count": 77,
      "outputs": [
        {
          "output_type": "stream",
          "name": "stdout",
          "text": [
            "Obi-Wan Kenobi(id=2) [obi1@example.com, wanwan@example.com]\n",
            "Anakin Skywalker(id=1) [ani@example.com, evil.dart@example.com, vader@example.com]\n"
          ]
        }
      ]
    },
    {
      "cell_type": "markdown",
      "source": [
        "\n",
        "\n",
        "*   En esta parte del código se obtiene el ID de la persona 'Anakin Skywalker' y se otorga a una variable, posteriormente se elimina el objeto pero para uso práctico y poder visualizarlo más tarde de momento se comentará.\n",
        "\n",
        "\n",
        "\n"
      ],
      "metadata": {
        "id": "hiXKQoEhgRS_"
      }
    },
    {
      "cell_type": "code",
      "source": [
        "# Obtenemos el ID de Anakin Skywalker antes de eliminarlo\n",
        "anakin_id = anakin.id\n",
        "\n",
        "# Eliminamos el objeto 'anakin' de la sesión y, por lo tanto, de la base de datos\n",
        "#del anakin\n"
      ],
      "metadata": {
        "id": "npnP6vhmeWPk"
      },
      "execution_count": 80,
      "outputs": []
    },
    {
      "cell_type": "code",
      "source": [
        "# Definimos una función llamada 'display_info' para mostrar información\n",
        "def display_info():\n",
        "  # Obtenemos todas las direcciones primero\n",
        "  addresses = session.query(Address).all()\n",
        "\n",
        "  # Mostramos los resultados\n",
        "  for address in addresses:\n",
        "    print(f'{address.person.name} <{address.email}>')\n",
        "\n",
        "  # Mostramos cuántos objetos tenemos en total en la base de datos\n",
        "  print('personas: {}, direcciones: {}'.format(session.query(Person).count(),\n",
        "    session.query(Address).count())\n",
        "  )\n",
        "\n",
        "# Llamamos a la función 'display_info' para mostrar la información actual en la base de datos\n",
        "display_info()\n",
        "\n",
        "# Recuperamos el objeto 'Anakin Skywalker' utilizando su ID\n",
        "anakin = session.query(Person).get(anakin_id)\n",
        "\n",
        "# Eliminamos el objeto 'Anakin Skywalker' de la sesión y, por lo tanto, de la base de datos\n",
        "session.delete(anakin)\n",
        "session.commit()\n",
        "\n",
        "# Llamamos nuevamente a la función 'display_info' para mostrar la información actualizada después de eliminar a 'Anakin Skywalker'\n",
        "display_info()\n"
      ],
      "metadata": {
        "colab": {
          "base_uri": "https://localhost:8080/"
        },
        "id": "TEfY4ZmpeY9C",
        "outputId": "bdbb6c30-50fd-44b0-e288-49084962249f"
      },
      "execution_count": 81,
      "outputs": [
        {
          "output_type": "stream",
          "name": "stdout",
          "text": [
            "Anakin Skywalker <ani@example.com>\n",
            "Anakin Skywalker <evil.dart@example.com>\n",
            "Anakin Skywalker <vader@example.com>\n",
            "Obi-Wan Kenobi <obi1@example.com>\n",
            "Obi-Wan Kenobi <wanwan@example.com>\n",
            "Anakin Skywalker <ani@example.com>\n",
            "Anakin Skywalker <evil.dart@example.com>\n",
            "Anakin Skywalker <vader@example.com>\n",
            "Obi-Wan Kenobi <obi1@example.com>\n",
            "Obi-Wan Kenobi <wanwan@example.com>\n",
            "Anakin Skywalker <ani@example.com>\n",
            "Anakin Skywalker <evil.dart@example.com>\n",
            "Anakin Skywalker <vader@example.com>\n",
            "Obi-Wan Kenobi <obi1@example.com>\n",
            "Obi-Wan Kenobi <wanwan@example.com>\n",
            "people: 6, addresses: 15\n",
            "Obi-Wan Kenobi <obi1@example.com>\n",
            "Obi-Wan Kenobi <wanwan@example.com>\n",
            "Anakin Skywalker <ani@example.com>\n",
            "Anakin Skywalker <evil.dart@example.com>\n",
            "Anakin Skywalker <vader@example.com>\n",
            "Obi-Wan Kenobi <obi1@example.com>\n",
            "Obi-Wan Kenobi <wanwan@example.com>\n",
            "Anakin Skywalker <ani@example.com>\n",
            "Anakin Skywalker <evil.dart@example.com>\n",
            "Anakin Skywalker <vader@example.com>\n",
            "Obi-Wan Kenobi <obi1@example.com>\n",
            "Obi-Wan Kenobi <wanwan@example.com>\n",
            "people: 5, addresses: 12\n"
          ]
        },
        {
          "output_type": "stream",
          "name": "stderr",
          "text": [
            "<ipython-input-81-ea6afd4ce3e3>:13: LegacyAPIWarning: The Query.get() method is considered legacy as of the 1.x series of SQLAlchemy and becomes a legacy construct in 2.0. The method is now available as Session.get() (deprecated since: 2.0) (Background on SQLAlchemy 2.0 at: https://sqlalche.me/e/b8d9)\n",
            "  anakin = session.query(Person).get(anakin_id)\n"
          ]
        }
      ]
    }
  ]
}